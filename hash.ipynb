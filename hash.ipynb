{
 "cells": [
  {
   "cell_type": "code",
   "execution_count": 6,
   "id": "cb78376b",
   "metadata": {},
   "outputs": [],
   "source": [
    "tombstone = object()\n",
    "\n",
    "class HashTable:\n",
    "    def __init__(self, size=10, load_factor = 2 / 3):\n",
    "        self.size = size\n",
    "        self.table = [None] * size # Can later be chaned to static\n",
    "        self.count = 0\n",
    "        self.load_factor = load_factor\n",
    "    \n",
    "    def custom_hash(self, key):\n",
    "        if isinstance(key, int):\n",
    "            return key % self.size\n",
    "        if isinstance(key, str):\n",
    "            return sum(ord(char) for char in key) % self.size\n",
    "        if isinstance(key, float):\n",
    "            return int(key * 1000) % self.size\n",
    "        else:\n",
    "            raise TypeError(\"Element is not hashable. The hash function accepts inputs: (int, str, float)\")\n",
    "        \n",
    "    def hash_function(self, key):\n",
    "        return self.custom_hash(key)\n",
    "    \n",
    "    def insert(self, key, value):\n",
    "        index = self.hash_function(key)\n",
    "\n",
    "        # Implement Linear Probing. Later can try linked list\n",
    "        while self.table[index] not in (None, tombstone):\n",
    "            if self.table[index][0] == key:\n",
    "                self.table[index] = (key, value)\n",
    "                return \n",
    "            index = (index + 1) % self.size\n",
    "        \n",
    "        self.table[index] = (key, value)\n",
    "        self.count +=1\n",
    "\n",
    "        if self.count / self.size > self.load_factor:\n",
    "            self.resize()\n",
    "        \n",
    "    def lookup(self, key):\n",
    "        index = self.hash_function(key)\n",
    "        while self.table[index] is not None:\n",
    "            if self.table [index] is not tombstone and self.table[index][0] == key:\n",
    "                return self.table[index][1] # Value\n",
    "            index = (index + 1) % self.size\n",
    "\n",
    "        return None\n",
    "\n",
    "    def delete(self, key):\n",
    "        index = self.hash_function(key)\n",
    "\n",
    "        while self.table[index] not in (None, tombstone):\n",
    "            if self.table[index] is not tombstone and self.table[index][0] == key:\n",
    "                self.table[index] = tombstone\n",
    "                self.count -= 1\n",
    "                return True\n",
    "            index = (index + 1) % self.size\n",
    "        return False\n",
    "    \n",
    "    def resize(self):\n",
    "        new_size = self.size * 2\n",
    "        new_table = [None] * new_size\n",
    "        old_table = self.table\n",
    "\n",
    "        self.size = new_size\n",
    "        self.table = new_table\n",
    "        self.count = 0\n",
    "\n",
    "        for item in old_table:\n",
    "            if item not in (None, tombstone):\n",
    "                self.insert(item[0], item[1])\n",
    "\n",
    "\n"
   ]
  },
  {
   "cell_type": "code",
   "execution_count": 7,
   "id": "7b2eb515",
   "metadata": {},
   "outputs": [],
   "source": [
    "class HashSet:\n",
    "    def __init__(self, size = 10):\n",
    "        self.hash_table = HashTable(size)\n",
    "\n",
    "    def add(self, key):\n",
    "        self.hash_table.insert(key, True) # Placeholder value. Change later\n",
    "    \n",
    "    def contains(self, key):\n",
    "        return self.hash_table.lookup(key) is not None\n",
    "    \n",
    "    def remove(self, key):\n",
    "        self.hash_table.delete(key)"
   ]
  },
  {
   "cell_type": "code",
   "execution_count": null,
   "id": "6bbdf6ca",
   "metadata": {},
   "outputs": [
    {
     "name": "stdout",
     "output_type": "stream",
     "text": [
      "True\n",
      "False\n",
      "False\n"
     ]
    }
   ],
   "source": [
    "hash_set = HashSet()\n",
    "hash_set.add(\"Unicorn\")\n",
    "hash_set.add(\"Lion\")\n",
    "print(hash_set.contains(\"Unicorn\"))\n",
    "print(hash_set.contains(\"Zebra\"))\n",
    "hash_set.remove(\"Unicorn\")\n",
    "print(hash_set.contains(\"Unicorn\"))"
   ]
  },
  {
   "cell_type": "code",
   "execution_count": 9,
   "id": "5d4019e6",
   "metadata": {},
   "outputs": [],
   "source": [
    "class HashMap:\n",
    "    def __init__(self, size=10):\n",
    "        self.hash_table = HashTable(size)\n",
    "\n",
    "    def put(self, key, value):\n",
    "        self.hash_table.insert(key, value)\n",
    "    \n",
    "    def get(self, key):\n",
    "        return self.hash_table.lookup(key)\n",
    "    \n",
    "    def remove(self, key):\n",
    "        return self.hash_table.delet(key)"
   ]
  },
  {
   "cell_type": "code",
   "execution_count": null,
   "id": "a8ecd111",
   "metadata": {},
   "outputs": [],
   "source": []
  }
 ],
 "metadata": {
  "kernelspec": {
   "display_name": "MLClass",
   "language": "python",
   "name": "python3"
  },
  "language_info": {
   "codemirror_mode": {
    "name": "ipython",
    "version": 3
   },
   "file_extension": ".py",
   "mimetype": "text/x-python",
   "name": "python",
   "nbconvert_exporter": "python",
   "pygments_lexer": "ipython3",
   "version": "3.9.18"
  }
 },
 "nbformat": 4,
 "nbformat_minor": 5
}
