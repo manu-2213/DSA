{
 "cells": [
  {
   "cell_type": "code",
   "execution_count": null,
   "id": "2c7a6224",
   "metadata": {},
   "outputs": [],
   "source": [
    "from typing import List # Can use list instead (py >= 3.9)"
   ]
  },
  {
   "cell_type": "code",
   "execution_count": null,
   "id": "d3ec0e86",
   "metadata": {},
   "outputs": [],
   "source": [
    "# Contains duplicate\n",
    "\n",
    "# O(n^2) solution\n",
    "\n",
    "class Solution:\n",
    "    def contains_duplicate1(self, nums: list[int]) -> bool:\n",
    "        check = []\n",
    "        for num in nums: # O(n) operation\n",
    "            if num not in check: # O(n) operation\n",
    "                check.append(num) # O(1) operation\n",
    "            else:\n",
    "                return True\n",
    "        return False\n",
    "\n",
    "# O(n^2) solution\n",
    "\n",
    "class Solution:\n",
    "    def contains_duplicate2(self, nums: list[int]) -> bool:\n",
    "        for i in range(len(nums)): # O(n)\n",
    "            for j in (i+1, len(nums)): # O(n)\n",
    "                if nums[i] == nums[j]: # O(1)\n",
    "                    return True\n",
    "        return False\n",
    "\n",
    "# O(n) solution\n",
    "class Solution:\n",
    "    def contains_duplicate3(self, nums: List[int]) -> bool:\n",
    "        nums.sort() # O(n*log(n))\n",
    "        for i in range(1, len(nums)): # O(n)\n",
    "            if nums[i] == nums[i - 1]:\n",
    "                return True\n",
    "        return False\n",
    "\n",
    "# O(n) solution\n",
    "class Solution:\n",
    "    def contains_duplicate4(self, nums: list[int]) -> bool:\n",
    "        seen = set()\n",
    "        for num in nums:\n",
    "            if num in seen:\n",
    "                return True\n",
    "            seen.add(num)\n",
    "        return False\n",
    "\n",
    "# O(n) solution\n",
    "class Solution:\n",
    "    def contains_duplicate5(self, nums: List[int]) -> bool:\n",
    "        return len(set(nums)) < len(nums)\n",
    "            "
   ]
  }
 ],
 "metadata": {
  "kernelspec": {
   "display_name": "MLClass",
   "language": "python",
   "name": "python3"
  },
  "language_info": {
   "codemirror_mode": {
    "name": "ipython",
    "version": 3
   },
   "file_extension": ".py",
   "mimetype": "text/x-python",
   "name": "python",
   "nbconvert_exporter": "python",
   "pygments_lexer": "ipython3",
   "version": "3.9.18"
  }
 },
 "nbformat": 4,
 "nbformat_minor": 5
}
